{
 "cells": [
  {
   "cell_type": "markdown",
   "metadata": {},
   "source": [
    "# Rahul M N - PH17B009  \n",
    "\n",
    "Integration using Metropolis Algorithm. "
   ]
  },
  {
   "cell_type": "code",
   "execution_count": 1,
   "metadata": {},
   "outputs": [],
   "source": [
    "import numpy as np\n",
    "import math\n",
    "from numpy import linalg as la\n",
    "import matplotlib.pyplot as plt\n",
    "import matplotlib.mlab as mlab\n",
    "import time"
   ]
  },
  {
   "cell_type": "code",
   "execution_count": 2,
   "metadata": {},
   "outputs": [],
   "source": [
    "mu,sig = 0,1\n",
    "pts = []\n",
    "e=2.7182"
   ]
  },
  {
   "cell_type": "code",
   "execution_count": 3,
   "metadata": {},
   "outputs": [],
   "source": [
    "def q(x):\n",
    "    return (1/(math.sqrt(2*math.pi*sig**2)))*(math.e**(-((x-mu)**2)/(2*sig**2)))"
   ]
  },
  {
   "cell_type": "code",
   "execution_count": 4,
   "metadata": {},
   "outputs": [],
   "source": [
    "def fa(x):\n",
    "    return((x**2))"
   ]
  },
  {
   "cell_type": "code",
   "execution_count": 5,
   "metadata": {},
   "outputs": [
    {
     "data": {
      "image/png": "[encoded data removed]",
      "text/plain": [
       "<Figure size 432x288 with 1 Axes>"
      ]
     },
     "metadata": {
      "needs_background": "light"
     },
     "output_type": "display_data"
    }
   ],
   "source": [
    "x=np.setdiff1d(np.linspace(-5,5,100),[0]) #to remove the zero\n",
    "y=fa(x)\n",
    "plt.plot(x, y)\n",
    "plt.show()"
   ]
  },
  {
   "cell_type": "code",
   "execution_count": 6,
   "metadata": {},
   "outputs": [],
   "source": [
    "def weight(x):\n",
    "    return np.e**(-(x**2)/2)"
   ]
  },
  {
   "cell_type": "code",
   "execution_count": 7,
   "metadata": {},
   "outputs": [],
   "source": [
    "def metropolis(N,d):\n",
    "    x_fin = []\n",
    "    x_fin.append(0)\n",
    "    c_acc = 0\n",
    "    for i in range(N):\n",
    "        temp = np.random.uniform(0,1)\n",
    "        if (temp < 0.5):\n",
    "            x_temp = x_fin[i] - d\n",
    "        elif (temp > 0.5 or temp == 0.5):\n",
    "            x_temp = x_fin[i] + d\n",
    "        r = weight(x_temp)/weight(x_fin[i])\n",
    "        if (r > 1 or r == 1):\n",
    "            c_acc = c_acc + 1\n",
    "            x_fin.append(x_temp)\n",
    "            continue\n",
    "        if (r < 1):\n",
    "            eta = np.random.uniform(0,1)\n",
    "            if (r > eta):\n",
    "                c_acc = c_acc + 1\n",
    "                x_fin.append(x_temp)\n",
    "            if (r < eta):\n",
    "                x_fin.append(x_fin[i])\n",
    "    acc_ratio = c_acc/len(x_fin)\n",
    "    return np.array([np.array(x_fin),acc_ratio])\n"
   ]
  },
  {
   "cell_type": "code",
   "execution_count": 8,
   "metadata": {},
   "outputs": [],
   "source": [
    "def f(x):\n",
    "    return (x**2)"
   ]
  },
  {
   "cell_type": "code",
   "execution_count": 9,
   "metadata": {},
   "outputs": [],
   "source": [
    "def met_int(N,d):\n",
    "    domain = metropolis(N,d)[0]\n",
    "    sum_ = 0\n",
    "    #normalization of weight function.\n",
    "    norm = np.sqrt(2*np.pi)\n",
    "    \n",
    "    for i in domain:\n",
    "        sum_ = sum_ + f(i)\n",
    "    plt.hist(domain)\n",
    "    print('Value of the integral is',norm*(sum_/np.size(domain)))\n",
    "    print('Acceptance ratio is',metropolis(N,d)[1])\n",
    "    #print(np.max(domain),np.min(domain))\n"
   ]
  },
  {
   "cell_type": "code",
   "execution_count": 10,
   "metadata": {},
   "outputs": [],
   "source": [
    "def a_c(N,d):\n",
    "    domain = metropolis(N,d)[0]\n",
    "    auto = []\n",
    "    kp = []\n",
    "    for k in range(100):\n",
    "        #x_k = domain[k]\n",
    "        kp.append(k)\n",
    "        fi = []\n",
    "        fi2 = []\n",
    "        fik = []\n",
    "        for i in range(np.size(domain)):\n",
    "            fi.append(f(domain[i]))\n",
    "            fi2.append(f(domain[i])**2)\n",
    "        for j in range(np.size(domain)-k):\n",
    "            fik.append(f(domain[j])*f(domain[j+k]))\n",
    "        fi = np.array(fi)\n",
    "        fi2 = np.array(fi2)\n",
    "        fik = np.array(fik)\n",
    "        auto.append((np.mean(fik)-np.mean(fi)**2)/(np.mean(fi2)-np.mean(fi)**2))\n",
    "    plt.plot(kp,auto)"
   ]
  },
  {
   "cell_type": "code",
   "execution_count": 11,
   "metadata": {},
   "outputs": [
    {
     "data": {
      "image/png": "[encoded data removed]",
      "text/plain": [
       "<Figure size 432x288 with 1 Axes>"
      ]
     },
     "metadata": {
      "needs_background": "light"
     },
     "output_type": "display_data"
    }
   ],
   "source": [
    "a_c(10000,0.2)"
   ]
  },
  {
   "cell_type": "code",
   "execution_count": 12,
   "metadata": {},
   "outputs": [
    {
     "name": "stdout",
     "output_type": "stream",
     "text": [
      "Value of the integral is 2.568258629041988\n",
      "Acceptance ratio is 0.9222807771922281\n"
     ]
    },
    {
     "data": {
      "image/png": "[encoded data removed]",
      "text/plain": [
       "<Figure size 432x288 with 1 Axes>"
      ]
     },
     "metadata": {
      "needs_background": "light"
     },
     "output_type": "display_data"
    }
   ],
   "source": [
    "met_int(100000,0.2)"
   ]
  },
  {
   "cell_type": "code",
   "execution_count": null,
   "metadata": {},
   "outputs": [],
   "source": []
  }
 ],
 "metadata": {
  "kernelspec": {
   "display_name": "Python 3",
   "language": "python",
   "name": "python3"
  },
  "language_info": {
   "codemirror_mode": {
    "name": "ipython",
    "version": 3
   },
   "file_extension": ".py",
   "mimetype": "text/x-python",
   "name": "python",
   "nbconvert_exporter": "python",
   "pygments_lexer": "ipython3",
   "version": "3.8.5"
  }
 },
 "nbformat": 4,
 "nbformat_minor": 4
}
