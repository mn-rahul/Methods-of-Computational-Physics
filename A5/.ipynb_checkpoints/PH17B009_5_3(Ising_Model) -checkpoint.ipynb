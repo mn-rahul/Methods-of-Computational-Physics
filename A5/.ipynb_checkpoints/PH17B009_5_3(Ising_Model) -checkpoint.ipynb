{
 "cells": [
  {
   "cell_type": "code",
   "execution_count": 2,
   "metadata": {},
   "outputs": [],
   "source": [
    "import matplotlib.pyplot as plt\n",
    "from numba import jit\n",
    "import numpy as np\n",
    "import random\n",
    "import time"
   ]
  },
  {
   "cell_type": "code",
   "execution_count": 3,
   "metadata": {},
   "outputs": [],
   "source": [
    "\n",
    "# Calculate the energy of the lattice.\n",
    "# The energy is the sum of interactions between spins divided by the total number of spins\n",
    "@jit(nopython=True)\n",
    "def calcE(s):\n",
    "    E = 0\n",
    "    for i in range(width):\n",
    "        for j in range(width):\n",
    "            E += -deltaU(s,i,j)/2\n",
    "    return E/width**2\n",
    "\n",
    "# Calculate magnetization. \n",
    "# Magnetization is the sum of all spins divided by the total number of spins"
   ]
  },
  {
   "cell_type": "code",
   "execution_count": 4,
   "metadata": {},
   "outputs": [],
   "source": [
    "# Calculate magnetization. \n",
    "# Magnetization is the sum of all spins divided by the total number of spins\n",
    "@jit(nopython=True)\n",
    "def calcM(s):\n",
    "    m = np.abs(s.sum())\n",
    "    return m/width**2"
   ]
  },
  {
   "cell_type": "code",
   "execution_count": 5,
   "metadata": {},
   "outputs": [],
   "source": [
    "# Calculate interaction energy between spins. Assume periodic boundaries\n",
    "# Interaction energy will be the difference in energy due to flipping spin i,j \n",
    "# (i.e. 2*spin_value*neighboring_spins)\n",
    "@jit(nopython=True)\n",
    "def deltaU(s,i,j):\n",
    "    #top\n",
    "    if i == 0:\n",
    "        t = s[width-1,j]  # periodic boundary\n",
    "    else:\n",
    "        t = s[i-1,j]\n",
    "    #bottom\n",
    "    if i == width-1:\n",
    "        b = s[0,j]  # periodic boundary\n",
    "    else:\n",
    "        b = s[i+1,j]\n",
    "    #left\n",
    "    if j == 0:\n",
    "        l = s[i,width-1]  # periodic boundary\n",
    "    else:\n",
    "        l = s[i,j-1]\n",
    "    #right\n",
    "    if j == width-1:\n",
    "        r = s[i,0]  # periodic boundary\n",
    "    else:\n",
    "        r = s[i,j+1]\n",
    "    return 2*s[i,j]*(t+b+r+l)  # difference in energy is i,j is flipped"
   ]
  },
  {
   "cell_type": "code",
   "execution_count": 6,
   "metadata": {},
   "outputs": [],
   "source": [
    "# Monte carlo cycle\n",
    "@jit(nopython=True)\n",
    "def montecc(s,Temp,cycles):\n",
    "    for m in range(cycles):\n",
    "        i = random.randrange(width)  # choose random row\n",
    "        j = random.randrange(width)  # choose random column\n",
    "        ediff = deltaU(s,i,j)\n",
    "        if ediff <= 0:\n",
    "            s[i,j] = -s[i,j]  # flip spin\n",
    "        elif random.random() < np.exp(-ediff/Temp):\n",
    "            s[i,j] = -s[i,j]\n",
    "    return s"
   ]
  },
  {
   "cell_type": "code",
   "execution_count": 7,
   "metadata": {},
   "outputs": [],
   "source": [
    "# Compute physical quantities\n",
    "@jit(nopython=True)\n",
    "def computePQ(s,T,cycles):\n",
    "    En = 0\n",
    "    En_sq = 0\n",
    "    Mg = 0\n",
    "    Mg_sq = 0\n",
    "    for p in range(cycles):\n",
    "        s = montecc(s,T,1)\n",
    "        E = calcE(s)\n",
    "        M = calcM(s)\n",
    "        En += E\n",
    "        Mg += M\n",
    "        En_sq += E*E\n",
    "        Mg_sq += M*M\n",
    "    aveEn = En/cycles\n",
    "    mag = Mg/cycles\n",
    "    sus = (Mg_sq/cycles-(Mg/cycles)**2)/T\n",
    "    heatCap = (En_sq/cycles-(En/cycles)**2)/(T**2)\n",
    "    return aveEn, mag, sus, heatCap\n",
    "\n"
   ]
  },
  {
   "cell_type": "code",
   "execution_count": 8,
   "metadata": {},
   "outputs": [
    {
     "name": "stdout",
     "output_type": "stream",
     "text": [
      "precent complete: 0.00 %\n",
      "precent complete: 22.73 %\n",
      "precent complete: 45.45 %\n",
      "precent complete: 68.18 %\n",
      "precent complete: 90.91 %\n",
      "Elapsed = 291.144250869751\n"
     ]
    }
   ],
   "source": [
    "width = 32  # width of sqaure spin lattice; \n",
    "s = np.random.choice([1,-1],size=(width,width))  # initial spin sites randomly (+1 or -1)\n",
    "cycles = 1000 * width**2\n",
    "\n",
    "# Initlaize temperature range (crosses critical temperature)\n",
    "temps = np.arange(1.50,3.25,0.02)\n",
    "\n",
    "# Inititalize magnetization, average energy, heat capacity, and susceptibility\n",
    "mag = np.zeros(len(temps))\n",
    "aveEn = np.zeros(len(temps))\n",
    "heatCap = np.zeros(len(temps))\n",
    "sus = np.zeros(len(temps))\n",
    "\n",
    "start = time.time()\n",
    "# Simulate at particular temperatures (temps) and compute physical quantities (magnetization, etc.)\n",
    "for ind, T in enumerate(temps):\n",
    "    # Cycle spins\n",
    "    s = montecc(s,T,cycles)\n",
    "    # Compute physical quanitites with 1000 cycles per spin at temperature T\n",
    "    aveEn[ind], mag[ind], sus[ind], heatCap[ind] = computePQ(s,T,cycles)\n",
    "    # Print completion status\n",
    "    if ind % 20 == 0:\n",
    "        print('precent complete:', '%.2f'%(ind/len(temps)*100),'%')\n",
    "end = time.time()\n",
    "print(\"Elapsed = %s\" % (end - start))"
   ]
  },
  {
   "cell_type": "code",
   "execution_count": 9,
   "metadata": {},
   "outputs": [
    {
     "data": {
      "image/png": "[encoded data removed]",
      "text/plain": [
       "<Figure size 432x288 with 1 Axes>"
      ]
     },
     "metadata": {
      "needs_background": "light"
     },
     "output_type": "display_data"
    },
    {
     "data": {
      "image/png": "[encoded data removed]",
      "text/plain": [
       "<Figure size 432x288 with 1 Axes>"
      ]
     },
     "metadata": {
      "needs_background": "light"
     },
     "output_type": "display_data"
    },
    {
     "data": {
      "image/png": "[encoded data removed]",
      "text/plain": [
       "<Figure size 432x288 with 1 Axes>"
      ]
     },
     "metadata": {
      "needs_background": "light"
     },
     "output_type": "display_data"
    },
    {
     "data": {
      "image/png": "[encoded data removed]",
      "text/plain": [
       "<Figure size 432x288 with 1 Axes>"
      ]
     },
     "metadata": {
      "needs_background": "light"
     },
     "output_type": "display_data"
    }
   ],
   "source": [
    "# Plot calculated quantities\n",
    "\n",
    "plt.scatter(temps,aveEn,s=2)\n",
    "plt.xlabel('Temperature')\n",
    "plt.ylabel('Average Energy')\n",
    "plt.show()\n",
    "\n",
    "plt.scatter(temps,heatCap,s=2)\n",
    "plt.xlabel('Temperature')\n",
    "plt.ylabel('Heat Capacity')\n",
    "plt.show()\n",
    "\n",
    "plt.scatter(temps,mag,s=2)\n",
    "plt.xlabel('Temperature')\n",
    "plt.ylabel('Magnetization')\n",
    "plt.show()\n",
    "\n",
    "plt.scatter(temps,sus,s=2)\n",
    "plt.xlabel('Temperature')\n",
    "plt.ylabel('Susceptibility')\n",
    "plt.show()"
   ]
  },
  {
   "cell_type": "code",
   "execution_count": null,
   "metadata": {},
   "outputs": [],
   "source": []
  }
 ],
 "metadata": {
  "kernelspec": {
   "display_name": "Python 3",
   "language": "python",
   "name": "python3"
  },
  "language_info": {
   "codemirror_mode": {
    "name": "ipython",
    "version": 3
   },
   "file_extension": ".py",
   "mimetype": "text/x-python",
   "name": "python",
   "nbconvert_exporter": "python",
   "pygments_lexer": "ipython3",
   "version": "3.8.5"
  }
 },
 "nbformat": 4,
 "nbformat_minor": 4
}
