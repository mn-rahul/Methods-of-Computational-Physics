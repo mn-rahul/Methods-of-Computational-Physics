{
 "cells": [
  {
   "cell_type": "markdown",
   "metadata": {},
   "source": [
    "# Bound States For Finite Potential Well \n",
    "## Rahul M N - PH17B009 "
   ]
  },
  {
   "cell_type": "markdown",
   "metadata": {},
   "source": [
    "The finite potential Well problem, when applied the boundary conditions at x=a and x=-a, \n",
    "gives us two equations for bound state ($E \\le V0$). These are *even* and *odd* states given by:\n",
    "Transcendental equations \n",
    "* Even States: $$ \\alpha tan(\\alpha a) = \\beta $$\n",
    "* Odd States: $$ \\alpha cot(\\alpha a) = -\\beta $$\n",
    "\n",
    "Where $$\\alpha = \\sqrt{\\frac{2mE}{\\bar{h}^2}}$$ & $$\\beta = \\sqrt{\\frac{2m(E-V_0)}{\\bar{h}^2}}$$\n",
    "\n",
    "\n",
    "We can write these equations on terms of f(E)=0 and find the roots:\n",
    "\n",
    "$$ F_{symmetric}(E) = \\beta cos(\\alpha a) - \\alpha sin(\\alpha a) = 0$$\n",
    "\n",
    "&\n",
    "\n",
    "$$ F_{antisymmetric}(E) = \\beta sin(\\alpha a) + \\alpha cos(\\alpha a) = 0$$\n"
   ]
  },
  {
   "cell_type": "code",
   "execution_count": 1,
   "metadata": {},
   "outputs": [],
   "source": [
    "import numpy as np\n",
    "import matplotlib.pyplot as plt\n",
    "from scipy.integrate import odeint\n",
    "from scipy.optimize import brentq"
   ]
  },
  {
   "cell_type": "code",
   "execution_count": 2,
   "metadata": {},
   "outputs": [],
   "source": [
    "Vo = 20\n",
    "en = np.linspace(1e-10, Vo, 1000) "
   ]
  },
  {
   "cell_type": "code",
   "execution_count": 3,
   "metadata": {},
   "outputs": [],
   "source": [
    "#defining the finite square potential well\n",
    "def V(x):\n",
    "    L = 5\n",
    "    if abs(x) > L:\n",
    "        return Vo\n",
    "    else:\n",
    "        return 0"
   ]
  },
  {
   "cell_type": "code",
   "execution_count": 4,
   "metadata": {},
   "outputs": [],
   "source": [
    "#Transcendental equations written above\n",
    "z = np.sqrt(2*en)\n",
    "z0 = np.sqrt(2*Vo)\n",
    "z_zeros_sym = []\n",
    "z_zeros_asym = []\n",
    "f_sym = lambda z: np.tan(z)-np.sqrt((z0/z)**2-1)      #Symmetric solution eqn\n",
    "f_asym = lambda z: -1/np.tan(z)-np.sqrt((z0/z)**2-1)  #Antisymm solution eqn"
   ]
  },
  {
   "cell_type": "markdown",
   "metadata": {},
   "source": [
    "Here i have used Brent's method as we need roots within an interval.\n",
    "\n",
    "Brent's method is a combination of Bisection and secant method.\n",
    "\n",
    "It works by combining root bracketing , bisection and quadratic interpolation.\n",
    "\n",
    "The method begins by using the secant method to obtain a third point c, then uses inverse quadratic interpolation to generate the next possible root. Without going into too much detail, the algorithm attempts to assess when interpolation will go awry, and if so, performs a bisection step. Also, it has certain criteria to reject an iterate. If that happens, the next step will be linear interpolation (secant method)."
   ]
  },
  {
   "cell_type": "code",
   "execution_count": 5,
   "metadata": {},
   "outputs": [
    {
     "name": "stdout",
     "output_type": "stream",
     "text": [
      "Symmetric solution energies: \n",
      "0.9179\n",
      "8.0922\n",
      "19.9726\n"
     ]
    },
    {
     "data": {
      "image/png": "[encoded data removed]",
      "text/plain": [
       "<Figure size 432x288 with 1 Axes>"
      ]
     },
     "metadata": {
      "needs_background": "light"
     },
     "output_type": "display_data"
    }
   ],
   "source": [
    "#Finding the zeros for the symmetric case\n",
    "s = np.sign(f_sym(z))\n",
    "for i in range(len(s)-1):\n",
    "   if s[i]+s[i+1] == 0:\n",
    "       zero = brentq(f_sym, z[i], z[i+1]) #Uses Brent's Method to find zeros\n",
    "       z_zeros_sym.append(zero)\n",
    "print(\"Symmetric solution energies: \")\n",
    "for i in range(0, len(z_zeros_sym),2):\n",
    "    print(\"%.4f\" %(z_zeros_sym[i]**2/2))\n",
    "    plt.hlines(y=(z_zeros_sym[i]**2/2), xmin=-1, xmax=1, color = 'purple')\n",
    "    "
   ]
  },
  {
   "cell_type": "code",
   "execution_count": 6,
   "metadata": {},
   "outputs": [
    {
     "name": "stdout",
     "output_type": "stream",
     "text": [
      "Antisymmetric solution energies: \n",
      "3.6462\n",
      "14.0022\n"
     ]
    },
    {
     "data": {
      "image/png": "[encoded data removed]",
      "text/plain": [
       "<Figure size 432x288 with 1 Axes>"
      ]
     },
     "metadata": {
      "needs_background": "light"
     },
     "output_type": "display_data"
    }
   ],
   "source": [
    "#Finding the zeros for the asymmetric case\n",
    "s = np.sign(f_asym(z))\n",
    "for j in range(len(s)-1):\n",
    "    if s[j]+s[j+1] == 0:\n",
    "        zero = brentq(f_asym, z[j], z[j+1])\n",
    "        z_zeros_asym.append(zero)\n",
    "print(\"Antisymmetric solution energies: \")\n",
    "for j in range(0, len(z_zeros_asym),2):\n",
    "    print( \"%.4f\" %(z_zeros_asym[j]**2/2))\n",
    "    plt.hlines(y=(z_zeros_asym[j]**2/2), xmin=-1, xmax=1, color = 'purple')"
   ]
  },
  {
   "cell_type": "code",
   "execution_count": 7,
   "metadata": {},
   "outputs": [],
   "source": [
    "N = 1000                  # number of points\n",
    "psi = np.zeros([N,2])\n",
    "psi0 = np.array([0,1])    # Wave function initial states\n",
    "b = 2                     # point outside of well\n",
    "x = np.linspace(-b, b, N) # x-axis\n"
   ]
  },
  {
   "cell_type": "code",
   "execution_count": 8,
   "metadata": {},
   "outputs": [],
   "source": [
    "#defining the Schrodinger Equation\n",
    "def SchrodEqn(psi, x):\n",
    "    psiprime = psi[1]\n",
    "    psi2prime = 2.0*(V(x) - E)*psi[0]\n",
    "    return np.array([psiprime, psi2prime])\n"
   ]
  },
  {
   "cell_type": "code",
   "execution_count": 9,
   "metadata": {},
   "outputs": [],
   "source": [
    "# function to calculate the wave function\n",
    "def Wave_function(energy):\n",
    "    global psi\n",
    "    global E\n",
    "    E = energy\n",
    "    psi = odeint(SchrodEqn, psi0, x)\n",
    "    return psi[-1,0]"
   ]
  },
  {
   "cell_type": "code",
   "execution_count": 10,
   "metadata": {},
   "outputs": [
    {
     "data": {
      "text/plain": [
       "Text(0, 0.5, 'E, $\\\\Psi(x)$')"
      ]
     },
     "execution_count": 10,
     "metadata": {},
     "output_type": "execute_result"
    },
    {
     "data": {
      "image/png": "[encoded data removed]",
      "text/plain": [
       "<Figure size 432x288 with 1 Axes>"
      ]
     },
     "metadata": {
      "needs_background": "light"
     },
     "output_type": "display_data"
    }
   ],
   "source": [
    "#Calculates the wave functions for each energy, normalizes them, and plots them\n",
    "for i in range(0, len(z_zeros_sym),2):\n",
    "    Wave_function(z_zeros_sym[i]**2/2)\n",
    "    Area=np.trapz((psi[:,0])**2,x=None, dx=.001)\n",
    "    A=np.sqrt(1/Area)\n",
    "    plt.plot(x, A*psi[:,0]+z_zeros_sym[i]**2/2)\n",
    "for j in range(0, len(z_zeros_asym),2):\n",
    "    Wave_function(z_zeros_asym[j]**2/2)\n",
    "    Area=np.trapz((psi[:,0])**2,x=None, dx=.001)\n",
    "    A=np.sqrt(1/Area) \n",
    "    plt.plot(x, A*psi[:,0]+z_zeros_asym[j]**2/2)\n",
    "plt.title('Energy Levels and Wave Functions in the Finite Square Well')\n",
    "plt.xlabel('x')\n",
    "plt.ylabel('E, $\\Psi(x)$')"
   ]
  }
 ],
 "metadata": {
  "kernelspec": {
   "display_name": "Python 3",
   "language": "python",
   "name": "python3"
  },
  "language_info": {
   "codemirror_mode": {
    "name": "ipython",
    "version": 3
   },
   "file_extension": ".py",
   "mimetype": "text/x-python",
   "name": "python",
   "nbconvert_exporter": "python",
   "pygments_lexer": "ipython3",
   "version": "3.8.5"
  }
 },
 "nbformat": 4,
 "nbformat_minor": 4
}
