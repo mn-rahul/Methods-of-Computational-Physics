{
 "cells": [
  {
   "cell_type": "markdown",
   "metadata": {},
   "source": [
    "# Integration using Monte Carlo \n",
    "                                  - Rahul M N (PH17B009) "
   ]
  },
  {
   "cell_type": "code",
   "execution_count": 1,
   "metadata": {},
   "outputs": [],
   "source": [
    "import numpy as np\n",
    "import math\n",
    "import random\n",
    "from matplotlib import pyplot as plt\n",
    "from IPython.display import clear_output"
   ]
  },
  {
   "cell_type": "markdown",
   "metadata": {},
   "source": [
    "$f_{ave} = \\frac{1}{b-a} \\int_{a}^{b}f(x)dx$"
   ]
  },
  {
   "cell_type": "markdown",
   "metadata": {},
   "source": [
    "Steps \n",
    "1. Get a random input value from the integration range\n",
    "2. Evaluate the integrand\n",
    "3. Repeat Steps 1 and 2 for as long as you like\n",
    "4. Determine the average of all these samples and multiple by the range\n"
   ]
  },
  {
   "cell_type": "code",
   "execution_count": 2,
   "metadata": {},
   "outputs": [],
   "source": [
    "def get_rand_number(min_value, max_value):\n",
    "    \n",
    "    #This functions gets a random number from a uniform distribution between\n",
    "    range = max_value - min_value\n",
    "    choice = random.uniform(0,1)\n",
    "    return min_value + range*choice"
   ]
  },
  {
   "cell_type": "markdown",
   "metadata": {},
   "source": [
    "$f(x) = \\frac{1}{1+x^2}$"
   ]
  },
  {
   "cell_type": "code",
   "execution_count": 3,
   "metadata": {},
   "outputs": [],
   "source": [
    "def f_of_x(x):\n",
    "    #This is the function we want to integrate\n",
    "    \n",
    "    return ((1/(1+x**2)))"
   ]
  },
  {
   "cell_type": "code",
   "execution_count": 4,
   "metadata": {},
   "outputs": [],
   "source": [
    "def crude_monte_carlo(num_samples):\n",
    "    \"\"\"\n",
    "    This function performs the Crude Monte Carlo for our\n",
    "    function f(x) on the range x=0 to x=1.       \n",
    "    \"\"\"\n",
    "    lower_bound = 0\n",
    "    upper_bound = 1\n",
    "    \n",
    "    sum_of_samples = 0\n",
    "    for i in range(num_samples):\n",
    "        x = get_rand_number(lower_bound, upper_bound)\n",
    "        sum_of_samples += f_of_x(x)\n",
    "    \n",
    "    return (upper_bound - lower_bound) * float(sum_of_samples/num_samples)\n"
   ]
  },
  {
   "cell_type": "code",
   "execution_count": 5,
   "metadata": {},
   "outputs": [],
   "source": [
    "def get_crude_MC_variance(num_samples):\n",
    "    \"\"\"\n",
    "    This function returns the variance fo the Crude Monte Carlo.\n",
    "    \"\"\"\n",
    "    int_max = 1 # this is the max of our integration range\n",
    "    \n",
    "    # get the average of squares\n",
    "    running_total = 0\n",
    "    for i in range(num_samples):\n",
    "        x = get_rand_number(0, int_max)\n",
    "        running_total += f_of_x(x)**2\n",
    "    sum_of_sqs = running_total*int_max / num_samples\n",
    "    \n",
    "    # get square of average\n",
    "    running_total = 0\n",
    "    for i in range(num_samples):\n",
    "        x = get_rand_number(0, int_max)\n",
    "        running_total = f_of_x(x)\n",
    "    sq_ave = (int_max*running_total/num_samples)**2\n",
    "    \n",
    "    return sum_of_sqs - sq_ave"
   ]
  },
  {
   "cell_type": "code",
   "execution_count": 6,
   "metadata": {},
   "outputs": [
    {
     "name": "stdout",
     "output_type": "stream",
     "text": [
      "Monte Carlo Approximation of f(x): 0.7879786599389724\n",
      "Variance of Approximation: 0.6495858687166448\n",
      "Error in Approximation: 0.025486974491230708\n"
     ]
    }
   ],
   "source": [
    "#Sample Result\n",
    "\n",
    "MC_samples = 1000\n",
    "var_samples = 1000 # number of samples we will use to calculate the variance\n",
    "crude_estimation = crude_monte_carlo(MC_samples)\n",
    "variance = get_crude_MC_variance(var_samples)\n",
    "error = math.sqrt(variance/MC_samples)\n",
    "\n",
    "# display results\n",
    "print(f\"Monte Carlo Approximation of f(x): {crude_estimation}\")\n",
    "print(f\"Variance of Approximation: {variance}\")\n",
    "print(f\"Error in Approximation: {error}\")\n"
   ]
  },
  {
   "cell_type": "code",
   "execution_count": 7,
   "metadata": {},
   "outputs": [
    {
     "data": {
      "text/plain": [
       "0.7853981633974483"
      ]
     },
     "execution_count": 7,
     "metadata": {},
     "output_type": "execute_result"
    }
   ],
   "source": [
    "#Analytical Solution is Pi/4 \n",
    "math.pi/4"
   ]
  },
  {
   "cell_type": "code",
   "execution_count": 8,
   "metadata": {},
   "outputs": [
    {
     "name": "stdout",
     "output_type": "stream",
     "text": [
      "N \t Monte Carlo Approximation of f(x): \t\t Variance  \t\t Error \n",
      "1000\t 0.7851073099177962 \t\t\t 0.6426339839798721\t\t\t 0.025350226507466794  \n",
      "51000\t 0.7860529882259628 \t\t\t 0.6418040245936101\t\t\t 0.0035474487507348705  \n",
      "101000\t 0.7846323081725936 \t\t\t 0.6431515415280852\t\t\t 0.002523457359424273  \n",
      "151000\t 0.7858361688670307 \t\t\t 0.6424272278096668\t\t\t 0.0020626402867155243  \n",
      "201000\t 0.7855042825849012 \t\t\t 0.6422216302214041\t\t\t 0.0017874933534600072  \n",
      "251000\t 0.7855109578147476 \t\t\t 0.6426016101278161\t\t\t 0.0016000518045993567  \n",
      "301000\t 0.7857757379113249 \t\t\t 0.6435491322984593\t\t\t 0.0014622027849721336  \n",
      "351000\t 0.7849588183219953 \t\t\t 0.6422283212948643\t\t\t 0.0013526678517209558  \n",
      "401000\t 0.7849850397278667 \t\t\t 0.6431570898200867\t\t\t 0.0012664450311828373  \n",
      "451000\t 0.7855440801199564 \t\t\t 0.6426240656088102\t\t\t 0.0011936863337720547  \n",
      "501000\t 0.785290041289857 \t\t\t 0.6427502306113173\t\t\t 0.0011326670261107444  \n",
      "551000\t 0.7852025220221148 \t\t\t 0.6425792028395869\t\t\t 0.0010799099267066736  \n",
      "601000\t 0.7855827483983938 \t\t\t 0.6427279865285914\t\t\t 0.0010341329343968848  \n",
      "651000\t 0.7854408048057736 \t\t\t 0.642257976935706\t\t\t 0.0009932630030069607  \n",
      "701000\t 0.7854639999788806 \t\t\t 0.6426319189058199\t\t\t 0.0009574633024897502  \n",
      "751000\t 0.7854787264705055 \t\t\t 0.6426569616064266\t\t\t 0.0009250594407118398  \n",
      "801000\t 0.7856199963437325 \t\t\t 0.6423471441090568\t\t\t 0.0008955062901742477  \n",
      "851000\t 0.7852450963841854 \t\t\t 0.642724499010417\t\t\t 0.0008690557696040232  \n",
      "901000\t 0.7854497991026427 \t\t\t 0.6425372484310049\t\t\t 0.0008444749259684095  \n",
      "951000\t 0.7852172826076138 \t\t\t 0.6425582077485126\t\t\t 0.0008219889498008173  \n",
      "1001000\t 0.7853589795754582 \t\t\t 0.6432021735478918\t\t\t 0.0008015981623818494  \n"
     ]
    }
   ],
   "source": [
    "print(f\"N \\t Monte Carlo Approximation of f(x): \\t\\t\",\"Variance  \\t\\t\",\"Error \")\n",
    "for i in range(1000, 1020000,50000 ):\n",
    "    crude_estimation = crude_monte_carlo(i)\n",
    "    variance = get_crude_MC_variance(i)\n",
    "    error = math.sqrt(variance/i)\n",
    "   \n",
    "    print(f\"{i}\\t {crude_estimation} \\t\\t\\t {variance}\\t\\t\\t {error}  \")\n",
    "   "
   ]
  },
  {
   "cell_type": "code",
   "execution_count": 9,
   "metadata": {
    "scrolled": true
   },
   "outputs": [
    {
     "data": {
      "image/png": "[encoded data removed]",
      "text/plain": [
       "<Figure size 432x288 with 1 Axes>"
      ]
     },
     "metadata": {
      "needs_background": "light"
     },
     "output_type": "display_data"
    }
   ],
   "source": [
    "x=np.setdiff1d(np.linspace(-5,5,100),[0]) #to remove the zero\n",
    "y=f_of_x(x)\n",
    "plt.plot(x, y)\n",
    "plt.show()"
   ]
  },
  {
   "cell_type": "markdown",
   "metadata": {},
   "source": [
    "# With Weight Function"
   ]
  },
  {
   "cell_type": "markdown",
   "metadata": {},
   "source": [
    "$w(x)=\\frac{4-2x}{3}$"
   ]
  },
  {
   "cell_type": "code",
   "execution_count": 10,
   "metadata": {},
   "outputs": [],
   "source": [
    "# this is our weight function g(x)\n",
    "def g_x(x):\n",
    "    return((4-2*x)/3) \n"
   ]
  },
  {
   "cell_type": "markdown",
   "metadata": {},
   "source": [
    "$g(x) = 2-\\sqrt(4-3y)$"
   ]
  },
  {
   "cell_type": "code",
   "execution_count": 11,
   "metadata": {},
   "outputs": [],
   "source": [
    "def g_i(y):\n",
    "    return (float(2-math.sqrt(4-3*y)))"
   ]
  },
  {
   "cell_type": "code",
   "execution_count": 12,
   "metadata": {},
   "outputs": [],
   "source": [
    "def wmc(n):\n",
    "    lower_bound = 0\n",
    "    upper_bound = 1\n",
    "    y=[]\n",
    "    for i in range(n):\n",
    "        t=get_rand_number(0, 1)  \n",
    "        y.append(t)\n",
    "    x=list(map(g_i,y))\n",
    "    sum_of_samples = 0\n",
    "    for i in range(n):\n",
    "        #x = get_rand_number(lower_bound, upper_bound)\n",
    "        sum_of_samples += f_of_x(x[i])/g_x(x[i])\n",
    "    \n",
    "    return (upper_bound - lower_bound) * float(sum_of_samples/n)\n"
   ]
  },
  {
   "cell_type": "code",
   "execution_count": 13,
   "metadata": {
    "scrolled": true
   },
   "outputs": [
    {
     "name": "stdout",
     "output_type": "stream",
     "text": [
      "N \tWeighted Monte Carlo Integration of f(x): \t\t Variance  \t\t\t Error \n",
      "1000\t 0.7855841433243886 \t\t\t\t 0.6369438084105608\t\t 0.02523774570777986  \n",
      "51000\t 0.7855032594231864 \t\t\t\t 0.6425929446626903\t\t 0.0035496283833737793  \n",
      "101000\t 0.7853478859873843 \t\t\t\t 0.6424384257274347\t\t 0.0025220579875075907  \n",
      "151000\t 0.7853476276406093 \t\t\t\t 0.6429599004218532\t\t 0.002063495235171428  \n",
      "201000\t 0.7853899409006105 \t\t\t\t 0.6434150654566168\t\t 0.001789153424778351  \n",
      "251000\t 0.7854352681564201 \t\t\t\t 0.6427621996530894\t\t 0.0016002517227946137  \n",
      "301000\t 0.7853980906310412 \t\t\t\t 0.642040525173961\t\t 0.0014604879323629975  \n",
      "351000\t 0.7853772428085478 \t\t\t\t 0.6423637248627574\t\t 0.0013528104383948544  \n",
      "401000\t 0.7854100382621909 \t\t\t\t 0.6426394696086392\t\t 0.0012659353038515647  \n",
      "451000\t 0.7854308393378034 \t\t\t\t 0.6431712009559585\t\t 0.0011941943827740657  \n",
      "501000\t 0.7854313902327814 \t\t\t\t 0.6421475422551088\t\t 0.0011321358669645982  \n",
      "551000\t 0.7853736066650315 \t\t\t\t 0.6426096969395612\t\t 0.001079935550388892  \n",
      "601000\t 0.7853899042929987 \t\t\t\t 0.643275581866266\t\t 0.0010345733740693415  \n",
      "651000\t 0.7853823024419555 \t\t\t\t 0.642768564108512\t\t 0.000993657740490059  \n",
      "701000\t 0.7854048291294764 \t\t\t\t 0.6426866833829571\t\t 0.0009575040986737938  \n",
      "751000\t 0.7853561054795343 \t\t\t\t 0.6427826393442603\t\t 0.0009251498884168068  \n",
      "801000\t 0.7853896999576558 \t\t\t\t 0.6429756825553681\t\t 0.0008959443107326996  \n",
      "851000\t 0.7853976050046805 \t\t\t\t 0.6425287159217985\t\t 0.0008689233961047634  \n",
      "901000\t 0.785408209751165 \t\t\t\t 0.643024548974475\t\t 0.0008447950903620063  \n",
      "951000\t 0.785390445645718 \t\t\t\t 0.6424192545326386\t\t 0.0008219000674379517  \n",
      "1001000\t 0.7853822059152412 \t\t\t\t 0.6427296429754332\t\t 0.0008013036599317472  \n"
     ]
    }
   ],
   "source": [
    "print(f\"N \\tWeighted Monte Carlo Integration of f(x): \\t\\t\",\"Variance  \\t\\t\\t\",\"Error \")\n",
    "for i in range(1000, 1020000,50000 ):\n",
    "    c_e = wmc(i)\n",
    "    variance = get_crude_MC_variance(i)\n",
    "    error = math.sqrt(variance/i)\n",
    "   \n",
    "    print(f\"{i}\\t {c_e} \\t\\t\\t\\t {variance}\\t\\t {error}  \")"
   ]
  },
  {
   "cell_type": "code",
   "execution_count": null,
   "metadata": {},
   "outputs": [],
   "source": []
  }
 ],
 "metadata": {
  "kernelspec": {
   "display_name": "Python 3",
   "language": "python",
   "name": "python3"
  },
  "language_info": {
   "codemirror_mode": {
    "name": "ipython",
    "version": 3
   },
   "file_extension": ".py",
   "mimetype": "text/x-python",
   "name": "python",
   "nbconvert_exporter": "python",
   "pygments_lexer": "ipython3",
   "version": "3.8.5"
  }
 },
 "nbformat": 4,
 "nbformat_minor": 4
}
